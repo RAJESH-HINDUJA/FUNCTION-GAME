{
 "cells": [
  {
   "cell_type": "code",
   "execution_count": 14,
   "id": "ded0f65d",
   "metadata": {
    "scrolled": true
   },
   "outputs": [
    {
     "name": "stdout",
     "output_type": "stream",
     "text": [
      "Welcome to Next Level\n"
     ]
    }
   ],
   "source": [
    "class dangal():\n",
    "    def __init__(self,name):\n",
    "        self.name=name\n",
    "        self.__score=0\n",
    "        self.__round=3\n",
    "    def displayround(self):\n",
    "        return self.__round\n",
    "    def displayscore(self):\n",
    "        return self.__score\n",
    "    def Takedown(self):\n",
    "        self.__score=self.__score +2 \n",
    "    def Escape(self):\n",
    "        self.__score=self.__score +1 \n",
    "    def Reversal(self):\n",
    "        self.__score=self.__score +2 \n",
    "    def Near_Fall_if_lasts_for_2_seconds(self):\n",
    "        self.__score=self.__score +2 \n",
    "    def Near_Fall_if_lasts_for_5_seconds(self):\n",
    "        self.__score=self.__score +3 \n",
    "    def Penalty_first_point(self):\n",
    "        self.__round=self.__round -1\n",
    "    def Penalty_Second_Points(self):\n",
    "        self.__round=self.__round -2 \n",
    "    def intro(self):\n",
    "        print(\"Player Name:- \",self.name)\n",
    "        print(\"Your Score  is :- \",self.displayscore())\n",
    "        print(\"Remaining round is:- \",self.displayround())\n",
    "D=dangal(\"Player\")\n",
    "x=D.displayround()\n",
    "if x==0:\n",
    "    print(\"Game is Over \")\n",
    "else:\n",
    "    print(\"Welcome to Next Level\")"
   ]
  },
  {
   "cell_type": "code",
   "execution_count": 15,
   "id": "c7e166d4",
   "metadata": {},
   "outputs": [
    {
     "name": "stdout",
     "output_type": "stream",
     "text": [
      "Player Name:-  Player\n",
      "Your Score  is :-  0\n",
      "Remaining round is:-  3\n"
     ]
    }
   ],
   "source": [
    "D.intro()"
   ]
  },
  {
   "cell_type": "code",
   "execution_count": 16,
   "id": "8625c5d2",
   "metadata": {},
   "outputs": [],
   "source": [
    "D.Near_Fall_if_lasts_for_5_seconds()"
   ]
  },
  {
   "cell_type": "code",
   "execution_count": 17,
   "id": "afc1f807",
   "metadata": {},
   "outputs": [],
   "source": [
    "D.Escape()"
   ]
  },
  {
   "cell_type": "code",
   "execution_count": 18,
   "id": "4050713c",
   "metadata": {},
   "outputs": [
    {
     "data": {
      "text/plain": [
       "4"
      ]
     },
     "execution_count": 18,
     "metadata": {},
     "output_type": "execute_result"
    }
   ],
   "source": [
    "D.displayscore()"
   ]
  },
  {
   "cell_type": "code",
   "execution_count": 19,
   "id": "28a786ca",
   "metadata": {},
   "outputs": [],
   "source": [
    "D.Penalty_Second_Points()"
   ]
  },
  {
   "cell_type": "code",
   "execution_count": 20,
   "id": "e671bbb1",
   "metadata": {},
   "outputs": [],
   "source": [
    "D.Penalty_first_point()"
   ]
  },
  {
   "cell_type": "code",
   "execution_count": 22,
   "id": "5726bf3d",
   "metadata": {},
   "outputs": [
    {
     "name": "stdout",
     "output_type": "stream",
     "text": [
      "Player Name:-  Player\n",
      "Your Score  is :-  4\n",
      "Remaining round is:-  0\n"
     ]
    }
   ],
   "source": [
    "D.intro()"
   ]
  },
  {
   "cell_type": "code",
   "execution_count": null,
   "id": "dbea8000",
   "metadata": {},
   "outputs": [],
   "source": []
  }
 ],
 "metadata": {
  "kernelspec": {
   "display_name": "Python 3 (ipykernel)",
   "language": "python",
   "name": "python3"
  },
  "language_info": {
   "codemirror_mode": {
    "name": "ipython",
    "version": 3
   },
   "file_extension": ".py",
   "mimetype": "text/x-python",
   "name": "python",
   "nbconvert_exporter": "python",
   "pygments_lexer": "ipython3",
   "version": "3.9.12"
  }
 },
 "nbformat": 4,
 "nbformat_minor": 5
}
